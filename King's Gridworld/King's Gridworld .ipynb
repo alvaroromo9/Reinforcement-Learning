{
 "cells": [
  {
   "cell_type": "markdown",
   "metadata": {},
   "source": [
    "## Introduction\n",
    "\n",
    "This code is intended to be an answer to exercise 6.9 on [Sutton and Barto's book](http://incompleteideas.net/book/the-book-2nd.html). This exercise aims to take an agent from start to finish through a grid in the lowest amount of steps. In the original problem, the agent could only move if four directions: up, down, left, or right. In this case, the agent can move in eight directions: the original four, plus the four diagonal directions. Additionally, certain cells are affected by wind: when the agent stands in one of those cells, it's moved upward by a number of cells defined by the strength of the wind.  "
   ]
  },
  {
   "attachments": {
    "Captura%20de%20Pantalla%202022-08-02%20a%20la%28s%29%2016.49.09.png": {
     "image/png": "[encoded data removed]"
    }
   },
   "cell_type": "markdown",
   "metadata": {},
   "source": [
    "![Captura%20de%20Pantalla%202022-08-02%20a%20la%28s%29%2016.49.09.png](attachment:Captura%20de%20Pantalla%202022-08-02%20a%20la%28s%29%2016.49.09.png)"
   ]
  },
  {
   "cell_type": "markdown",
   "metadata": {},
   "source": [
    "To get a better idea of the problem, the figure above shows the task at hand: the agent must find a way to go from S to G in the lowest steps possible, taking into account that some cells have wind. The strength of the wind is given by the numbers below the grid. You can find this image and a further explanation of the problem in page 130 of Sutton and Barto's [Reinforcement Learning: An Introduction](http://incompleteideas.net/book/the-book-2nd.html)."
   ]
  },
  {
   "cell_type": "code",
   "execution_count": 36,
   "metadata": {},
   "outputs": [],
   "source": [
    "# Alvaro Romo\n",
    "\n",
    "import numpy as np\n",
    "import matplotlib\n",
    "import matplotlib.pyplot as plt\n",
    "from tqdm import tqdm"
   ]
  },
  {
   "cell_type": "code",
   "execution_count": 37,
   "metadata": {},
   "outputs": [],
   "source": [
    "# This code was made by modifying ShangtongZhang's original code:\n",
    "\n",
    "#######################################################################\n",
    "# Copyright (C)                                                       #\n",
    "# 2016-2018 Shangtong Zhang(zhangshangtong.cpp@gmail.com)             #\n",
    "# 2016 Kenta Shimada(hyperkentakun@gmail.com)                         #\n",
    "# Permission given to modify the code as long as you keep this        #\n",
    "# declaration at the top                                              #\n",
    "#######################################################################"
   ]
  },
  {
   "cell_type": "code",
   "execution_count": 38,
   "metadata": {},
   "outputs": [],
   "source": [
    "# The main difference is the fact that this code implements gridworld with diagonal moves, not only vertical\n",
    "# and horizontal moves. "
   ]
  },
  {
   "cell_type": "code",
   "execution_count": 39,
   "metadata": {},
   "outputs": [],
   "source": [
    "# Creating gridworld\n",
    "\n",
    "height = 7\n",
    "width = 10\n",
    "wind = [0, 0, 0, 1, 1, 1, 2, 2, 1, 0] # for each of the 10 columns\n",
    "\n",
    "# Possible actions: 8\n",
    "up = 0\n",
    "down = 1\n",
    "left = 2\n",
    "right = 3\n",
    "up_left = 4\n",
    "up_right = 5\n",
    "down_left = 6\n",
    "down_right = 7\n",
    "\n",
    "# Optional action: stay still, just move with the wind\n",
    "no_action = 8\n",
    "\n",
    "# Actions \n",
    "actions = np.arange(8)\n",
    "actions_full = np.arange(9) # inlcuding no movement\n",
    "\n",
    "# Start and finish\n",
    "start = [3,0]\n",
    "goal = [3,7]\n"
   ]
  },
  {
   "cell_type": "code",
   "execution_count": 40,
   "metadata": {},
   "outputs": [],
   "source": [
    "def take_action(state, action):\n",
    "    # state: [i,j] coordinates of where the agent is standing\n",
    "    i, j = state\n",
    "    if action == up:\n",
    "        return [max(i - 1 - wind[j], 0), j]\n",
    "    elif action == down:\n",
    "        return [max(min(i + 1 - wind[j], height-1),0), j]\n",
    "    elif action == left:\n",
    "        return [max(i - wind[j], 0), max(j-1, 0)]\n",
    "    elif action == right:\n",
    "        return [max(i - wind[j], 0), min(j + 1, width - 1)]\n",
    "    elif action == up_left:\n",
    "        return [max(i-1-wind[j], 0), max(j-1, 0)]\n",
    "    elif action == up_right:\n",
    "        return [max(i-1-wind[j], 0), min(j + 1, width - 1)]\n",
    "    elif action == down_left:\n",
    "        return [max(min(i + 1 - wind[j], height - 1),0), max(j-1, 0)]\n",
    "    elif action == down_right:\n",
    "        return [max(min(i + 1 - wind[j], height - 1), 0), min(j + 1, width - 1)]\n",
    "    elif action == no_action:\n",
    "        return state\n",
    "    "
   ]
  },
  {
   "cell_type": "markdown",
   "metadata": {},
   "source": [
    "To solve this problem, the Q-learning (Watkins, 1989) algorithmn is used. This algorithm tries to estimate $q_{*}(s,a)$ to find an optimal policy $\\pi{*}(s)$ for each state $s$. Unlike Monte Carlo methods, Q-learning belongs to a class of methods called Temporal Difference Learning methods, in which the update for the estimation of $q_{*}(s,a)$, given by $Q(s,a)$, is made on a step by step basis, not on an episode by episode basis."
   ]
  },
  {
   "cell_type": "code",
   "execution_count": 56,
   "metadata": {},
   "outputs": [],
   "source": [
    "def q_learning(episodes=100000, epsilon=0.1, alpha=0.5, gamma=1, no_move = False):\n",
    "    # no-move: if true, the agent can stay still and just be moved by the wind\n",
    "    if no_move:\n",
    "        actions = np.arange(9)\n",
    "    else:\n",
    "        actions = np.arange(8)\n",
    "        \n",
    "    # Initialize Q(s,a) for all state-action pairs\n",
    "    q_values = np.random.random(size = (height, width, len(actions)))\n",
    "    \n",
    "    # Loop over each episode\n",
    "    rewards_log = []\n",
    "    for episode in tqdm(range(episodes)):\n",
    "        rewards = 0.0\n",
    "        state = start\n",
    "        while state != goal: # goal = terminal state\n",
    "            # Choose an action based on an epsilon-greedy policy using q_values:\n",
    "            if np.random.binomial(1, epsilon) == 1:\n",
    "                action = np.random.choice(actions)\n",
    "            else:\n",
    "                max_q = np.max(q_values[state[0], state[1], :])\n",
    "                values = q_values[state[0], state[1], :]\n",
    "                action = np.random.choice(np.flatnonzero(values == max_q))\n",
    "                \n",
    "            next_state = take_action(state, action)\n",
    "            reward = -1\n",
    "            rewards += reward\n",
    "            q_values[state[0], state[1], action] += alpha*(reward + gamma*np.max(q_values[next_state[0], next_state[1],:])-\n",
    "                                                          q_values[state[0], state[1], action])\n",
    "            state = next_state\n",
    "        rewards_log.append(rewards)\n",
    "            \n",
    "    return q_values, rewards_log\n",
    "    "
   ]
  },
  {
   "cell_type": "code",
   "execution_count": 57,
   "metadata": {},
   "outputs": [
    {
     "name": "stderr",
     "output_type": "stream",
     "text": [
      "100%|██████████| 100000/100000 [00:35<00:00, 2836.26it/s]\n",
      "100%|██████████| 100000/100000 [00:33<00:00, 3008.14it/s]\n"
     ]
    }
   ],
   "source": [
    "Q, re = q_learning()\n",
    "Q2, re2 = q_learning(no_move = True)"
   ]
  },
  {
   "cell_type": "code",
   "execution_count": 72,
   "metadata": {},
   "outputs": [
    {
     "data": {
      "image/png": "[encoded data removed]",
      "text/plain": [
       "<Figure size 432x288 with 1 Axes>"
      ]
     },
     "metadata": {
      "needs_background": "light"
     },
     "output_type": "display_data"
    },
    {
     "name": "stdout",
     "output_type": "stream",
     "text": [
      "On average, with diagonal moves allowed, the agent takes 9.30639 steps to reach the goal\n",
      "On average, with diagonal moves and standing still allowed, the agent takes 9.15294 steps to reach the goal\n"
     ]
    }
   ],
   "source": [
    "plt.plot(np.arange(100000), re, label = 'Cannot stay still')\n",
    "plt.plot(np.arange(100000), re2, label = 'Can stay still')\n",
    "plt.title('Rewards for each episode', size = 14)\n",
    "plt.xlabel('Episode number')\n",
    "plt.ylabel('Rewards for each episode')\n",
    "plt.legend()\n",
    "plt.show()\n",
    "\n",
    "mean_re = np.mean(re)\n",
    "mean_re2 = np.mean(re2)\n",
    "\n",
    "print('On average, with diagonal moves allowed, the agent takes {} steps to reach the goal'.format(abs(mean_re)))\n",
    "print('On average, with diagonal moves and standing still allowed, the agent takes {} steps to reach the goal'.format(abs(mean_re2)))\n",
    "      \n",
    "      \n",
    "      "
   ]
  },
  {
   "cell_type": "markdown",
   "metadata": {},
   "source": [
    "### Final note\n",
    "\n",
    "If we allow the agent to move diagonally, the average amount of steps needed for the agent to reach the goal decreases, compared with the case that the agent could only move in four directions. In fact, if the agent could only move up, down, left, or right, this same algorithm achieved an average of 17 steps to reach the goal. However if we allow the agent to move diagonally, and even don't move at all, the average steps needed to reach the goal decreases to approximately 9 steps. \n",
    "\n",
    "Note: The number of steps needed for each episode is given by the total rewards of an episode. Since each step an agent does not reach the goal the reward is -1, the sum of rewards represents the number of steps needed to reach the goal. "
   ]
  },
  {
   "cell_type": "code",
   "execution_count": null,
   "metadata": {},
   "outputs": [],
   "source": []
  },
  {
   "cell_type": "code",
   "execution_count": null,
   "metadata": {},
   "outputs": [],
   "source": []
  }
 ],
 "metadata": {
  "kernelspec": {
   "display_name": "Python 3",
   "language": "python",
   "name": "python3"
  },
  "language_info": {
   "codemirror_mode": {
    "name": "ipython",
    "version": 3
   },
   "file_extension": ".py",
   "mimetype": "text/x-python",
   "name": "python",
   "nbconvert_exporter": "python",
   "pygments_lexer": "ipython3",
   "version": "3.8.5"
  }
 },
 "nbformat": 4,
 "nbformat_minor": 4
}
