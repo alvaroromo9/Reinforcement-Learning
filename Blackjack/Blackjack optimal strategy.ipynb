{
 "cells": [
  {
   "cell_type": "markdown",
   "metadata": {},
   "source": [
    "# Introduction and objectives\n",
    "\n",
    "In this notebook I attempt to find the best strategy to play blackjack using **Reinforcement Learning** (RL) techniques. More specifically, I will use ***on-policy Monte Carlo Learning***. This technique tries to estimate $q_{*}(S_t,A_t) = E_{\\pi_{*}}[Gt |S_t=s, A_t=a]$. In words, this method aims to estimate the expected value of a certain state-action pair, $(S_t,A_t)$, given an agent (in this case the player) follows the optimal strategy $\\pi_{*}$. In the end, this method will yield a policy $\\pi(s)$ which tells the agent which action to take given a certain state $s$. "
   ]
  },
  {
   "cell_type": "markdown",
   "metadata": {},
   "source": [
    "## The game of Blackjack\n",
    "\n",
    "Blackjack is one of the most popular card games. The game can sometimes have different rules that depend on each casino. In this case, I will use the following rules to play blackjack: at the start of each hand, the player gets dealt two cards, and the dealer gets dealt two cards as well. The player can only see **one** of the dealer's cards. Each card's value is its face number, unless the card is a Jack, Queen or King, in which case the card's value is 10; in the case the card is an Ace, the card's value can be 11 or 1. The objective of the game is to get to 21, or as close to it without going over it (bust), in which case you lose. \n",
    "Once the player has his hand and can see one dealer's cards, he can decide from three actions: ask for another card (hit), keep his hand as is (stand), or double his bet, but only get dealt one more card and no more (double down). \n",
    "The player wins if he is closer to 21 than the dealer and hasn't go bust, or if the dealer go bust. \n",
    "One more thing, the payout for hitting a blackjack is 3/2, instead of 1.  "
   ]
  },
  {
   "cell_type": "code",
   "execution_count": 81,
   "metadata": {},
   "outputs": [],
   "source": [
    "# @author: Alvaro Romo\n",
    "# Libraries\n",
    "import numpy as np\n",
    "import matplotlib\n",
    "import matplotlib.pyplot as plt\n",
    "import seaborn as sns\n",
    "from tqdm import tqdm\n"
   ]
  },
  {
   "cell_type": "code",
   "execution_count": 82,
   "metadata": {},
   "outputs": [],
   "source": [
    "# Actions and policy encoding\n",
    "action_hit = 0 # ask dealer for another card\n",
    "action_stand = 1 # stay with given cards\n",
    "action_dd = 2 # double down given the card dealing\n",
    "actions = np.array([action_hit, action_stand, action_dd])\n",
    "\n",
    "# delaers behavior: dealer always asks for a card when he has 16 or less; he stands otherwise\n",
    "def dealer_action(card_sum):\n",
    "    if card_sum <= 16:\n",
    "        return action_hit\n",
    "    else:\n",
    "        return action_stand\n",
    "    \n",
    "# we assume cards are drawn from an infinite deck of cards\n",
    "\n",
    "def get_card():\n",
    "    card = np.random.randint(1,14) # 1 = Ace\n",
    "    card = min(10, card) # 11, 12, and 13 are worth 10\n",
    "    return card\n",
    "\n",
    "def get_card_value(card):\n",
    "    # card: an int between 1 and 13, where an ace's value is 11, and J, Q, and K's value is 10\n",
    "    if card == 1: # case of an ace\n",
    "        return 11\n",
    "    else: # Any other card from 2 to 9\n",
    "        return card\n",
    "    \n",
    "    \n",
    "def play_hand(policy):\n",
    "    # policy: it's a function of the states = (soft_ace, player_sum, dealer_show) which outputs an action\n",
    "    \n",
    "    player_sum = 0\n",
    "    soft_ace_player = False\n",
    "    player_trajectory = [] # sequence of S0, A0, R1, S1, A1, R2,..., A(T-1), R(T)\n",
    "    \n",
    "    dealer_card1 = 0 # this is the card the player can see\n",
    "    dealer_card2 = 0\n",
    "    soft_ace_dealer = False\n",
    "    \n",
    "    # Deal a hand for the player: two cards\n",
    "    player_card1 = get_card()\n",
    "    player_card2 = get_card()\n",
    "    \n",
    "    # Get player sum\n",
    "    player_sum = get_card_value(player_card1) + get_card_value(player_card2)\n",
    "    \n",
    "    # The only way a player gets 22 is if the player has two aces\n",
    "    soft_ace_count = 0\n",
    "    \n",
    "    if player_sum > 21: # then a player has two aces\n",
    "        player_sum = player_sum - 10 # uses one ace as one\n",
    "        soft_ace_count = 1\n",
    "    \n",
    "    else: # player sum is less than 21 but may have an ace\n",
    "        soft_ace_count = int((player_card1 == 1)) + int((player_card2 == 1)) # if neither is ace, sum is 0\n",
    "        \n",
    "    # if soft_ace_count > 0, the player has an ace he CAN use as a one, that is using as an 11\n",
    "    soft_ace_player = (soft_ace_count > 0)\n",
    "    \n",
    "    \n",
    "    # Deal a hand for the dealer: first card is the one the player sees; the second one is hidden for the player\n",
    "    dealer_card1 = get_card()\n",
    "    dealer_card2 = get_card()\n",
    "    \n",
    "    state = [soft_ace_player, player_sum, dealer_card1]\n",
    "    \n",
    "    dealer_sum = get_card_value(dealer_card1) + get_card_value(dealer_card2)\n",
    "    soft_ace_dealer = (dealer_card1 == 1) or (dealer_card2 == 1)\n",
    "    soft_ace_dealer_count = int(soft_ace_dealer) # one or two\n",
    "    \n",
    "    # if the dealer's sum is > 21, he must hold two aces. \n",
    "    if dealer_sum > 21:\n",
    "        # use one ace as 1 rather than 11\n",
    "        dealer_sum = dealer_sum - 10\n",
    "        soft_ace_dealer_count = 1 # he holds now one ace he could use as a one\n",
    "        \n",
    "    soft_ace_dealer = (soft_ace_dealer_count > 0)\n",
    "    \n",
    "    # With both hands, we play a game:\n",
    "    \n",
    "    # Player's turn to decide what to do\n",
    "    while True:\n",
    "        action = policy(soft_ace_player, player_sum, dealer_card1)\n",
    "        player_trajectory.append([(soft_ace_player, player_sum, dealer_card1), action])\n",
    "        \n",
    "        if action == action_stand:\n",
    "            break # game stops and the player has to see what the dealer has (exits while loop)\n",
    "            \n",
    "        # When the player double downs, he asks for just ONE additional card\n",
    "        if action == action_dd: \n",
    "            new_card = get_card()\n",
    "            player_sum += get_card_value(new_card)\n",
    "            \n",
    "            # If the player busts, he loses double what he bet\n",
    "            if player_sum > 21 and (new_card == 1): # player has drawn another ace \n",
    "                player_sum -= 10\n",
    "                \n",
    "            # Player busts with double down\n",
    "            if player_sum > 21:\n",
    "                return state, -2, player_trajectory\n",
    "            \n",
    "            break # if a player double downs, he can't ask for another card\n",
    "            \n",
    "        # The only remaining case: the player asks for another card\n",
    "        if action == action_hit: \n",
    "            new_card = get_card()\n",
    "            \n",
    "            soft_ace_count = soft_ace_count + int((new_card == 1)) # only increases if the player got dealt an ace\n",
    "            player_sum += get_card_value(new_card)\n",
    "            \n",
    "            while player_sum > 21 and soft_ace_count > 0:\n",
    "                player_sum = player_sum - 10 # player uses an ace as 1\n",
    "                soft_ace_count -= 1\n",
    "                \n",
    "            # Player busts\n",
    "            if player_sum > 21: # in this case, the player no longer has aces to use\n",
    "                return state, -1, player_trajectory\n",
    "            \n",
    "            \n",
    "    # Dealer's turn to decide what to do\n",
    "    while True:\n",
    "        action_d = dealer_action(dealer_sum)\n",
    "        if action_d == action_stand:\n",
    "            break # time to compare sums\n",
    "            \n",
    "        # Otherwise, the dealer hits\n",
    "        new_card = get_card()\n",
    "        soft_ace_dealer_count += int((new_card == 1))\n",
    "        \n",
    "        dealer_sum += get_card_value(new_card)\n",
    "        \n",
    "        while dealer_sum > 21 and soft_ace_dealer_count > 0:\n",
    "            dealer_sum = dealer_sum - 10 # dealer uses a sum as a one\n",
    "            soft_ace_dealer_count -= 1\n",
    "            \n",
    "            \n",
    "        # Dealer busts   \n",
    "        if dealer_sum > 21: \n",
    "            if action == action_dd:\n",
    "                if player_sum == 21: # blackjack pays 3/2\n",
    "                    return state, 2*(3/2), player_trajectory\n",
    "                else:\n",
    "                    return state, 2, player_trajectory\n",
    "                \n",
    "            else: # player didn't double down\n",
    "                if player_sum == 21:\n",
    "                    return state, 3/2, player_trajectory\n",
    "                else:\n",
    "                    return state, 1, player_trajectory\n",
    "                \n",
    "                \n",
    "    # Once the dealer has chosen to stand, we compare sums:\n",
    "    \n",
    "    if player_sum > dealer_sum: # player wins\n",
    "        if action == action_dd:\n",
    "            return state, 2, player_trajectory\n",
    "        else:\n",
    "            return state, 1, player_trajectory\n",
    "        \n",
    "    elif player_sum == dealer_sum: \n",
    "        return state, 0, player_trajectory\n",
    "    \n",
    "    else: # player loses\n",
    "        if action == action_dd:\n",
    "            return state, -2, player_trajectory\n",
    "        else:\n",
    "            return state, -1, player_trajectory\n",
    "                  \n",
    "        "
   ]
  },
  {
   "cell_type": "code",
   "execution_count": 83,
   "metadata": {},
   "outputs": [],
   "source": [
    "# Monte Carlo on policy method\n",
    "\n",
    "def mc_control_epsilon(episodes, epsilon):\n",
    "    # Initializations\n",
    "    \n",
    "    player_sum_states = np.arange(1,22)\n",
    "    dealer_card_states = np.arange(1,11)\n",
    "    shape = (len(player_sum_states), len(dealer_card_states), 2, len (actions))\n",
    "    action_values = np.zeros(shape = shape)\n",
    "    state_action_counts = np.ones(shape = shape)\n",
    "    Q_matrix = action_values / state_action_counts\n",
    "        \n",
    "    # Go through trajectories\n",
    "    for episode in tqdm(range(episodes)):\n",
    "        # Epsilon greedy policy \n",
    "        def epsilon_greedy_policy(soft_ace_flag, player_sum, dealer_card):\n",
    "            # An epsilon greedy policy chooses the action with the highest Q value, but it sometimes\n",
    "            # chooses a random policy for exploration. \n",
    "            Q_matrix = action_values / state_action_counts\n",
    "            state_values = Q_matrix[player_sum-1,dealer_card-1,int(soft_ace_flag),:]\n",
    "            aux = np.random.binomial(n=1, p = 1-epsilon)\n",
    "            if aux == 1:\n",
    "                return np.random.choice(np.flatnonzero(state_values == state_values.max()))\n",
    "            else:\n",
    "                return np.random.choice(np.arange(len(state_values)))\n",
    "        \n",
    "        state, reward, trajectory = play_hand(epsilon_greedy_policy) # using eps-greedy\n",
    "        \n",
    "        for (soft_ace_flag, player_sum, dealer_card), action in trajectory:\n",
    "            action_values[player_sum-1, dealer_card-1, int(soft_ace_flag),action] += reward\n",
    "            state_action_counts[player_sum-1, dealer_card-1, int(soft_ace_flag), action] += 1\n",
    "            \n",
    "        \n",
    "            \n",
    "    Q_matrix = action_values / state_action_counts       \n",
    "        \n",
    "    return Q_matrix "
   ]
  },
  {
   "cell_type": "code",
   "execution_count": 6,
   "metadata": {},
   "outputs": [
    {
     "name": "stderr",
     "output_type": "stream",
     "text": [
      "100%|██████████| 5000000/5000000 [05:08<00:00, 16206.21it/s]\n"
     ]
    }
   ],
   "source": [
    "Q_ = mc_control_epsilon(episodes=5000000, epsilon=0.3)"
   ]
  },
  {
   "cell_type": "code",
   "execution_count": 8,
   "metadata": {},
   "outputs": [],
   "source": [
    "def mc_optimal_policy(soft_ace_flag, player_sum, dealer_card):\n",
    "    return np.argmax(Q_[player_sum-1, dealer_card-1, int(soft_ace_flag), :])"
   ]
  },
  {
   "cell_type": "code",
   "execution_count": 77,
   "metadata": {},
   "outputs": [
    {
     "data": {
      "image/png": "[encoded data removed]",
      "text/plain": [
       "<Figure size 432x288 with 2 Axes>"
      ]
     },
     "metadata": {
      "needs_background": "light"
     },
     "output_type": "display_data"
    }
   ],
   "source": [
    "# Filter Q values by having a soft ace or not\n",
    "no_ace_Q = Q_[:,:,0,:]\n",
    "with_ace_Q = Q_[:,:,1,:]\n",
    "\n",
    "# Policies\n",
    "no_ace_pi = np.argmax(no_ace_Q, axis = -1)\n",
    "with_ace_pi = np.argmax(with_ace_Q, axis = -1)\n",
    "\n",
    "# Filter to display only from when a player has a 10\n",
    "no_ace_pi2 = no_ace_pi[9:, :]\n",
    "with_ace_pi2 = with_ace_pi[9:, :]\n",
    "\n",
    "sns.heatmap(np.flipud(no_ace_pi2), cmap = 'YlGnBu', xticklabels = range(1,11),\n",
    "           yticklabels = list(reversed(range(10,22))))\n",
    "plt.xlabel('Dealer shows')\n",
    "plt.ylabel('Player has')\n",
    "plt.title('Optimal Policy when a player has no usable ace')\n",
    "plt.show()\n",
    "\n",
    "# Dark blue means a player should double down\n",
    "# Yellow means a player should hit\n",
    "# Light blue means a player should stand\n"
   ]
  },
  {
   "cell_type": "code",
   "execution_count": 80,
   "metadata": {},
   "outputs": [
    {
     "data": {
      "image/png": "[encoded data removed]",
      "text/plain": [
       "<Figure size 432x288 with 2 Axes>"
      ]
     },
     "metadata": {
      "needs_background": "light"
     },
     "output_type": "display_data"
    }
   ],
   "source": [
    "sns.heatmap(np.flipud(with_ace_pi2), cmap = 'YlGnBu', xticklabels = range(1,11),\n",
    "           yticklabels = list(reversed(range(10,22))))\n",
    "plt.xlabel('Dealer shows')\n",
    "plt.ylabel('Player has')\n",
    "plt.title('Optimal Policy when a player has a usable ace')\n",
    "plt.show()\n",
    "# Dark blue means a player should stand\n",
    "# Yellow means a player should hit"
   ]
  },
  {
   "cell_type": "code",
   "execution_count": 72,
   "metadata": {},
   "outputs": [
    {
     "name": "stderr",
     "output_type": "stream",
     "text": [
      "100%|██████████| 10000/10000 [00:00<00:00, 37957.40it/s]\n"
     ]
    }
   ],
   "source": [
    "hands = 10000\n",
    "rewards = []\n",
    "\n",
    "for i in tqdm(range(hands)):\n",
    "    _, reward, trajectory = play_hand(mc_optimal_policy)\n",
    "    rewards.append(reward)"
   ]
  },
  {
   "cell_type": "code",
   "execution_count": 86,
   "metadata": {},
   "outputs": [
    {
     "name": "stdout",
     "output_type": "stream",
     "text": [
      "The results for the optimal policy:\n",
      "The player wins 0.4265% of the time\n",
      "The player loses 0.4983% of the time\n",
      "The player draws 0.0752% of the time\n",
      "Total positive rewards: 5040.0\n",
      "Total losses: -5479\n"
     ]
    }
   ],
   "source": [
    "wins = 0\n",
    "wins_value = 0\n",
    "losses = 0\n",
    "losses_value = 0\n",
    "draws = 0\n",
    "for r in rewards:\n",
    "    if r>0:\n",
    "        wins +=1\n",
    "        wins_value += r\n",
    "        \n",
    "    elif r == 0:\n",
    "        draws +=1\n",
    "    else:\n",
    "        losses += 1\n",
    "        losses_value += r\n",
    "        \n",
    "print('The results for the optimal policy:')\n",
    "\n",
    "print('The player wins {}% of the time'.format(wins/len(rewards)))\n",
    "print('The player loses {}% of the time'.format(losses/len(rewards)))\n",
    "print('The player draws {}% of the time'.format(draws/len(rewards)))\n",
    "\n",
    "print('Total positive rewards: {}'.format(wins_value))\n",
    "print('Total losses: {}'.format(losses_value))"
   ]
  },
  {
   "cell_type": "code",
   "execution_count": 65,
   "metadata": {},
   "outputs": [],
   "source": [
    "# We can compare this performace with another simple common strategy for a player:\n",
    "def basic_policy(soft_ace_flag, player_sum, dealer_card):\n",
    "    if player_sum == 20 or player_sum == 21:\n",
    "        return action_stand\n",
    "    elif player_sum == 10 or player_sum == 1:\n",
    "        return action_dd\n",
    "    else:\n",
    "        return action_hit"
   ]
  },
  {
   "cell_type": "code",
   "execution_count": 66,
   "metadata": {},
   "outputs": [
    {
     "name": "stderr",
     "output_type": "stream",
     "text": [
      "100%|██████████| 10000/10000 [00:00<00:00, 48949.24it/s]\n"
     ]
    }
   ],
   "source": [
    "hands = 10000\n",
    "rewards_b = []\n",
    "\n",
    "for i in tqdm(range(hands)):\n",
    "    _, reward_b, trajectory = play_hand(basic_policy)\n",
    "    rewards_b.append(reward_b)"
   ]
  },
  {
   "cell_type": "code",
   "execution_count": 88,
   "metadata": {},
   "outputs": [
    {
     "name": "stdout",
     "output_type": "stream",
     "text": [
      "The results for the basic policy:\n",
      "The player wins 0.298% of the time\n",
      "The player loses 0.6409% of the time\n",
      "The player draws 0.0611% of the time\n",
      "Total positive rewards: 3439.5\n",
      "Total losses: -6583\n"
     ]
    }
   ],
   "source": [
    "wins = 0\n",
    "wins_value = 0\n",
    "losses = 0\n",
    "losses_value = 0\n",
    "draws = 0\n",
    "for r in rewards_b:\n",
    "    if r>0:\n",
    "        wins +=1\n",
    "        wins_value += r\n",
    "        \n",
    "    elif r == 0:\n",
    "        draws +=1\n",
    "    else:\n",
    "        losses += 1\n",
    "        losses_value += r\n",
    "        \n",
    "print('The results for the basic policy:')        \n",
    "\n",
    "print('The player wins {}% of the time'.format(wins/len(rewards_b)))\n",
    "print('The player loses {}% of the time'.format(losses/len(rewards_b)))\n",
    "print('The player draws {}% of the time'.format(draws/len(rewards_b)))\n",
    "\n",
    "print('Total positive rewards: {}'.format(wins_value))\n",
    "print('Total losses: {}'.format(losses_value))"
   ]
  },
  {
   "cell_type": "code",
   "execution_count": 89,
   "metadata": {},
   "outputs": [
    {
     "data": {
      "image/png": "[encoded data removed]",
      "text/plain": [
       "<Figure size 432x288 with 1 Axes>"
      ]
     },
     "metadata": {
      "needs_background": "light"
     },
     "output_type": "display_data"
    }
   ],
   "source": [
    "# Cumulative rewards over time\n",
    "op_acc = np.add.accumulate(rewards)\n",
    "basic_acc = np.add.accumulate(rewards_b)\n",
    "\n",
    "plt.plot(np.arange(hands), op_acc, label = 'Optimal policy')\n",
    "plt.plot(np.arange(hands), basic_acc, label = 'Basic policy')\n",
    "plt.legend()\n",
    "plt.title('Cumulative rewards for Optimal policy vs Basic Poicy')\n",
    "plt.xlabel('Number of hands played')\n",
    "plt.ylabel('Cumulative rewards')\n",
    "plt.show()"
   ]
  },
  {
   "cell_type": "markdown",
   "metadata": {},
   "source": [
    "### Final note\n",
    "\n",
    "As we can see above, the optimal policy also losses money over time, but it does so in a slower way than our benchmark policy. Of course there is no policy that produces positive returns over time, as the game of blackjack is desgined to have a house edge, but this example shows how Reinforcement Learning can be used to produce policies that make the agent act optimally with a given state and how it can improve performance (in this case, reduce losses). "
   ]
  },
  {
   "cell_type": "code",
   "execution_count": null,
   "metadata": {},
   "outputs": [],
   "source": []
  }
 ],
 "metadata": {
  "kernelspec": {
   "display_name": "Python 3",
   "language": "python",
   "name": "python3"
  },
  "language_info": {
   "codemirror_mode": {
    "name": "ipython",
    "version": 3
   },
   "file_extension": ".py",
   "mimetype": "text/x-python",
   "name": "python",
   "nbconvert_exporter": "python",
   "pygments_lexer": "ipython3",
   "version": "3.8.5"
  }
 },
 "nbformat": 4,
 "nbformat_minor": 4
}
